{
 "cells": [
  {
   "cell_type": "code",
   "execution_count": 1,
   "metadata": {},
   "outputs": [
    {
     "name": "stdout",
     "output_type": "stream",
     "text": [
      " Cleaned dataset saved as coursera_cleaned.csv\n"
     ]
    }
   ],
   "source": [
    "import pandas as pd\n",
    "\n",
    "# Load the dataset\n",
    "df = pd.read_csv(\"Coursera.csv\")\n",
    "\n",
    "# Define unwanted duration patterns\n",
    "remove_list = [\n",
    "    \"1 – 4 Years\",\n",
    "    \"1 year\",\n",
    "    \"2 or 3 years\",\n",
    "    \"8–24 months\",\n",
    "    \"4–8 years\",\n",
    "    \"16–60 months\",\n",
    "    \"24–36 months\"\n",
    "]\n",
    "\n",
    "# If your column name is not 'duration', replace it below\n",
    "duration_col = \"duration\"\n",
    "\n",
    "# Remove rows that contain any of these unwanted durations\n",
    "df_cleaned = df[~df[duration_col].isin(remove_list)]\n",
    "\n",
    "# Save the cleaned dataset\n",
    "df_cleaned.to_csv(\"coursera_cleaned.csv\", index=False)\n",
    "\n",
    "print(f\" Cleaned dataset saved as coursera_cleaned.csv\")\n",
    "\n"
   ]
  }
 ],
 "metadata": {
  "kernelspec": {
   "display_name": "Python 3",
   "language": "python",
   "name": "python3"
  },
  "language_info": {
   "codemirror_mode": {
    "name": "ipython",
    "version": 3
   },
   "file_extension": ".py",
   "mimetype": "text/x-python",
   "name": "python",
   "nbconvert_exporter": "python",
   "pygments_lexer": "ipython3",
   "version": "3.13.1"
  }
 },
 "nbformat": 4,
 "nbformat_minor": 2
}
