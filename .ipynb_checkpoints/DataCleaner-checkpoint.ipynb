{
 "cells": [
  {
   "cell_type": "code",
   "execution_count": null,
   "metadata": {},
   "outputs": [],
   "source": [
    "#h1 removing the out of boundry data:"
   ]
  },
  {
   "cell_type": "code",
   "execution_count": 23,
   "metadata": {},
   "outputs": [
    {
     "name": "stdout",
     "output_type": "stream",
     "text": [
      "✅ Cleaned file saved as 'Coursera_cleaned.csv'\n",
      "🗑️ Removed 0 rows\n"
     ]
    }
   ],
   "source": [
    "import csv\n",
    "\n",
    "input_file = \"Coursera.csv\"\n",
    "output_file = \"Coursera_cleaned.csv\"\n",
    "\n",
    "# List of unwanted patterns (normalized lowercase, no spaces)\n",
    "remove_list = [\n",
    "    \"1–4years\", \"1-4years\",\n",
    "    \"1year\",\n",
    "    \"2or3years\",\n",
    "    \"8–24months\", \"8-24months\",\n",
    "    \"4–8years\", \"4-8years\",\n",
    "    \"16–60months\", \"16-60months\",\n",
    "    \"24–36months\", \"24-36months\"\n",
    "]\n",
    "\n",
    "duration_column_name = \"duration\"  # change if your column name is different\n",
    "\n",
    "cleaned_rows = []\n",
    "\n",
    "with open(input_file, \"r\", encoding=\"utf-8\") as infile:\n",
    "    reader = csv.DictReader(infile)\n",
    "    headers = reader.fieldnames\n",
    "    for row in reader:\n",
    "        duration_value = row[duration_column_name].strip().lower().replace(\" \", \"\")\n",
    "        # normalize different dash types\n",
    "        duration_value = duration_value.replace(\"–\", \"-\").replace(\"—\", \"-\")\n",
    "        # keep the row only if it doesn't contain any unwanted pattern\n",
    "        if not any(pattern in duration_value for pattern in remove_list):\n",
    "            cleaned_rows.append(row)\n",
    "\n",
    "with open(output_file, \"w\", newline=\"\", encoding=\"utf-8\") as outfile:\n",
    "    writer = csv.DictWriter(outfile, fieldnames=headers)\n",
    "    writer.writeheader()\n",
    "    writer.writerows(cleaned_rows)\n",
    "\n",
    "print(f\"✅ Cleaned file saved as '{output_file}'\")\n",
    "print(f\"🗑️ Removed {len(open(input_file).readlines()) - len(cleaned_rows) - 1} rows\")"
   ]
  },
  {
   "cell_type": "code",
   "execution_count": 24,
   "metadata": {},
   "outputs": [
    {
     "data": {
      "text/html": [
       "<div>\n",
       "<style scoped>\n",
       "    .dataframe tbody tr th:only-of-type {\n",
       "        vertical-align: middle;\n",
       "    }\n",
       "\n",
       "    .dataframe tbody tr th {\n",
       "        vertical-align: top;\n",
       "    }\n",
       "\n",
       "    .dataframe thead th {\n",
       "        text-align: right;\n",
       "    }\n",
       "</style>\n",
       "<table border=\"1\" class=\"dataframe\">\n",
       "  <thead>\n",
       "    <tr style=\"text-align: right;\">\n",
       "      <th></th>\n",
       "      <th>instructor</th>\n",
       "      <th>title</th>\n",
       "      <th>skills</th>\n",
       "      <th>rating</th>\n",
       "      <th>reviewcount</th>\n",
       "      <th>level</th>\n",
       "      <th>certificatetype</th>\n",
       "      <th>duration</th>\n",
       "      <th>crediteligibility</th>\n",
       "      <th>description</th>\n",
       "      <th>platform</th>\n",
       "    </tr>\n",
       "  </thead>\n",
       "  <tbody>\n",
       "  </tbody>\n",
       "</table>\n",
       "</div>"
      ],
      "text/plain": [
       "Empty DataFrame\n",
       "Columns: [instructor, title, skills, rating, reviewcount, level, certificatetype, duration, crediteligibility, description, platform]\n",
       "Index: []"
      ]
     },
     "execution_count": 24,
     "metadata": {},
     "output_type": "execute_result"
    }
   ],
   "source": [
    "cleaned = pd.read_csv(\"coursera_cleaned.csv\")\n",
    "cleaned"
   ]
  },
  {
   "cell_type": "code",
   "execution_count": null,
   "metadata": {},
   "outputs": [],
   "source": [
    "#h1 removing the remaining data:"
   ]
  },
  {
   "cell_type": "code",
   "execution_count": 37,
   "metadata": {},
   "outputs": [
    {
     "name": "stdout",
     "output_type": "stream",
     "text": [
      "Total rows BEFORE filtering: 1110\n",
      "\n",
      "Unique values in duration column BEFORE:\n",
      "[' 3 - 6 Months' ' 1 - 3 Months' ' 1 - 4 Weeks' nan ' Less Than 2 Hours'\n",
      " ' 24 meses.' ' 24 meses' ' 26 meses' ' 4 meses' ' 6 meses'\n",
      " ' 4-6 months to complete' ' 4 months to complete' ' 4 months'\n",
      " ' 6-7 months to complete' ' 24 - 60 months' ' 24 months' ' 6 - 12 Months'\n",
      " ' 15+ hours of study/wk per course' ' 2 years' ' 3 – 6 years'\n",
      " ' 12 months' ' 24 to 60 months' ' 4 years' ' 1 – 3 years'\n",
      " ' 2 to 4 years depending on beginning credits and course load'\n",
      " ' 3- 6 years' ' 1.5 – 3 years' ' 2 – 3 years' ' 18 a 24 meses']\n",
      "\n",
      "==================================================\n",
      "\n",
      "Total rows AFTER filtering: 1070\n",
      "Rows deleted: 40\n",
      "\n",
      "Unique values in duration column After:\n",
      "['3 - 6 Months' '1 - 3 Months' '1 - 4 Weeks' nan 'Less Than 2 Hours'\n",
      " '4-6 months to complete' '4 months to complete' '4 months'\n",
      " '6-7 months to complete' '6 - 12 Months'\n",
      " '15+ hours of study/wk per course' '12 months']\n",
      "\n",
      "==================================================\n",
      "\n",
      "Filtered CSV saved successfully!\n"
     ]
    }
   ],
   "source": [
    "import pandas as pd\n",
    "\n",
    "# Read the CSV file\n",
    "df = pd.read_csv('Coursera_cleaned.csv')\n",
    "\n",
    "print(f\"Total rows BEFORE filtering: {len(df)}\")\n",
    "print(\"\\nUnique values in duration column BEFORE:\")\n",
    "print(df['duration'].unique())\n",
    "print(\"\\n\" + \"=\"*50 + \"\\n\")\n",
    "\n",
    "# Strip leading/trailing whitespace from all duration values\n",
    "df['duration'] = df['duration'].str.strip()\n",
    "\n",
    "# Define the values to DELETE (rows with these values will be removed)\n",
    "values_to_delete = [\n",
    "    \"24 meses.\",\n",
    "    \"24 meses\",\n",
    "    \"26 meses\",\n",
    "    \"4 meses\",\n",
    "    \"6 meses\",\n",
    "    \"24 months\",\n",
    "    \"2 to 4 years depending on beginning credits and course load\",\n",
    "    \"3- 6 years\",\n",
    "    \"1.5 – 3 years\",\n",
    "    \"2 – 3 years\",\n",
    "    \"18 a 24 meses\",\n",
    "    \" 1.5 â€“ 3 years\",\n",
    "    \"2 years\",\n",
    "    \"3 – 6 years\",\n",
    "    \"24 to 60 months\",\n",
    "    \" 18 a 24 meses\",\n",
    "    \"24 - 60 months\",\n",
    "    \"4 years\",\n",
    "    \"1 – 3 years\",\n",
    "]\n",
    "\n",
    "# Delete rows where duration matches any of the values to delete\n",
    "df = df[~df['duration'].isin(values_to_delete)]\n",
    "\n",
    "print(f\"Total rows AFTER filtering: {len(df)}\")\n",
    "print(f\"Rows deleted: {len(pd.read_csv('Coursera_cleaned.csv')) - len(df)}\")\n",
    "print(\"\\nUnique values in duration column After:\")\n",
    "print(df['duration'].unique())\n",
    "print(\"\\n\" + \"=\"*50 + \"\\n\")\n",
    "\n",
    "\n",
    "df.to_csv('Coursera_cleaned_filtered.csv', index=False)\n",
    "\n",
    "print(\"Filtered CSV saved successfully!\")\n"
   ]
  },
  {
   "cell_type": "code",
   "execution_count": 43,
   "metadata": {},
   "outputs": [],
   "source": [
    "#h1 fixing the durations in coursera file"
   ]
  },
  {
   "cell_type": "code",
   "execution_count": 42,
   "metadata": {},
   "outputs": [
    {
     "name": "stdout",
     "output_type": "stream",
     "text": [
      "\n",
      "Unique values in duration column BEFORE:\n",
      "['3 - 6 Months' '1 - 3 Months' '1 - 4 Weeks' nan 'Less Than 2 Hours'\n",
      " '4-6 months to complete' '4 months to complete' '4 months'\n",
      " '6-7 months to complete' '6 - 12 Months'\n",
      " '15+ hours of study/wk per course' '12 months']\n",
      "\n",
      "==================================================\n",
      "\n",
      "Duration values have been successfully replaced!\n",
      "\n",
      "First 20 rows of the updated data:\n",
      "    duration\n",
      "0       90.0\n",
      "1       90.0\n",
      "2       90.0\n",
      "3       90.0\n",
      "4       90.0\n",
      "5       90.0\n",
      "6       90.0\n",
      "7       90.0\n",
      "8       40.0\n",
      "9       90.0\n",
      "10      25.0\n",
      "11      90.0\n",
      "12      90.0\n",
      "13      40.0\n",
      "14      90.0\n",
      "15      90.0\n",
      "16      90.0\n",
      "17      90.0\n",
      "18      90.0\n",
      "19      90.0\n",
      "\n",
      "==================================================\n",
      "\n",
      "Unique values AFTER replacement:\n",
      "[ 90.  40.  25.  nan   2. 100.  80. 180.  15. 240.]\n",
      "\n",
      "Total unique duration values remaining: 9\n",
      "\n",
      "Final row count: 1070\n"
     ]
    },
    {
     "name": "stderr",
     "output_type": "stream",
     "text": [
      "C:\\Users\\habee\\AppData\\Local\\Temp\\ipykernel_27740\\2433174201.py:32: FutureWarning: Downcasting behavior in `replace` is deprecated and will be removed in a future version. To retain the old behavior, explicitly call `result.infer_objects(copy=False)`. To opt-in to the future behavior, set `pd.set_option('future.no_silent_downcasting', True)`\n",
      "  df['duration'] = df['duration'].replace(duration_mapping)\n"
     ]
    }
   ],
   "source": [
    "import pandas as pd\n",
    "\n",
    "# Read the CSV file\n",
    "df = pd.read_csv('Coursera_cleaned_filtered.csv')\n",
    "\n",
    "print(\"\\nUnique values in duration column BEFORE:\")\n",
    "print(df['duration'].unique())\n",
    "print(\"\\n\" + \"=\"*50 + \"\\n\")\n",
    "\n",
    "duration_mapping = {\n",
    "    \"1 - 3 Months\": 40,\n",
    "    \"3 - 6 Months\": 90,\n",
    "    \"1 - 4 Weeks\": 25,\n",
    "    \"12 Months\": 240,\n",
    "    \"4-6 Months\": 100,\n",
    "    \"4-6 months to complete\": 100,\n",
    "    \"4 months to complete\": 80,\n",
    "    \"4 months\": 80,\n",
    "    \"6-12 Months\": 180,\n",
    "    \"15+ hours of study/week\": 60,\n",
    "    \"Less Than 2 Hours\": 2,\n",
    "    \"less than 2 hours\": 2,\n",
    "    \"6-7 months to complete\": 100,\n",
    "    \"6 - 12 Months\": 180,\n",
    "    \"15+ hours of study/wk per course\": 15,\n",
    "    \"12 months\": 240\n",
    "    \n",
    "}\n",
    "\n",
    "\n",
    "# Replace the values in the duration column\n",
    "df['duration'] = df['duration'].replace(duration_mapping)\n",
    "\n",
    "# Save the modified dataframe back to CSV\n",
    "df.to_csv('Coursera_cleaned.csv', index=False)\n",
    "\n",
    "print(\"Duration values have been successfully replaced!\")\n",
    "print(\"\\nFirst 20 rows of the updated data:\")\n",
    "print(df[['duration']].head(20))\n",
    "print(\"\\n\" + \"=\"*50)\n",
    "print(\"\\nUnique values AFTER replacement:\")\n",
    "print(df['duration'].unique())\n",
    "print(f\"\\nTotal unique duration values remaining: {df['duration'].nunique()}\")\n",
    "print(f\"\\nFinal row count: {len(df)}\")\n",
    "df.to_csv('Coursera_cleaned_filtered.csv', index=False)\n"
   ]
  },
  {
   "cell_type": "code",
   "execution_count": null,
   "metadata": {},
   "outputs": [],
   "source": []
  }
 ],
 "metadata": {
  "kernelspec": {
   "display_name": "Python 3 (ipykernel)",
   "language": "python",
   "name": "python3"
  },
  "language_info": {
   "codemirror_mode": {
    "name": "ipython",
    "version": 3
   },
   "file_extension": ".py",
   "mimetype": "text/x-python",
   "name": "python",
   "nbconvert_exporter": "python",
   "pygments_lexer": "ipython3",
   "version": "3.13.5"
  }
 },
 "nbformat": 4,
 "nbformat_minor": 4
}
